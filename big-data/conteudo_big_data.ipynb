{
  "nbformat": 4,
  "nbformat_minor": 0,
  "metadata": {
    "colab": {
      "provenance": []
    },
    "kernelspec": {
      "name": "python3",
      "display_name": "Python 3"
    },
    "language_info": {
      "name": "python"
    }
  },
  "cells": [
    {
      "cell_type": "markdown",
      "source": [
        "**Matrizes em Python**"
      ],
      "metadata": {
        "id": "z5wOCS2CZMPR"
      }
    },
    {
      "cell_type": "code",
      "execution_count": null,
      "metadata": {
        "colab": {
          "base_uri": "https://localhost:8080/"
        },
        "id": "36dMbv20MnD2",
        "outputId": "4a0b703e-c3ef-4429-f105-93d95117aada"
      },
      "outputs": [
        {
          "output_type": "stream",
          "name": "stdout",
          "text": [
            "=====Matrizes=====\n",
            "Matriz 1:  [[2, 1, 3], [2, 2, 9], [1, 2, 1]]\n",
            "Matriz 2:  [[7, 7, 7], [8, 6, 8], [7, 4, 8]]\n",
            "Matriz 1:  [2, 1, 2]\n",
            "Matriz 2:  [7, 7, 8]\n",
            "Soma da matriz 1:  [5]\n",
            "Soma da matriz 2:  [22]\n",
            "Soma da matrizes:  27\n"
          ]
        }
      ],
      "source": [
        "### Matrizes - Exercício 1  ###\n",
        "\n",
        "import random as rd\n",
        "print(\"=\" * 5 + \"Matrizes\" + \"=\" * 5)\n",
        "matriz1 = [[rd.randint(1,10), rd.randint(1,10), rd.randint(1,10)], [rd.randint(1,10), rd.randint(1,10), rd.randint(1,10)], [rd.randint(1,10), rd.randint(1,10), rd.randint(1,10)]]\n",
        "matriz2 = [[rd.randint(1,10), rd.randint(1,10), rd.randint(1,10)], [rd.randint(1,10), rd.randint(1,10), rd.randint(1,10)], [rd.randint(1,10), rd.randint(1,10), rd.randint(1,10)]]\n",
        "\n",
        "print(\"Matriz 1: \", matriz1)\n",
        "print(\"Matriz 2: \", matriz2)\n",
        "soma1 = [matriz1[1][0] + matriz1[2][0] + matriz1[2][1]]\n",
        "soma2 = [matriz2[0][1] + matriz2[0][2] + matriz2[1][2]]\n",
        "resultado = sum(soma1) + sum(soma2)\n",
        "\n",
        "print(\"Matriz 1: \", [matriz1[1][0], matriz1[2][0], matriz1[2][1]])\n",
        "print(\"Matriz 2: \", [matriz2[0][1], matriz2[0][2], matriz2[1][2]])\n",
        "print(\"Soma da matriz 1: \", soma1)\n",
        "print(\"Soma da matriz 2: \", soma2)\n",
        "print(\"Soma da matrizes: \", resultado)\n",
        "\n",
        "\n"
      ]
    },
    {
      "cell_type": "markdown",
      "source": [
        "**Determinante em Python**\n",
        "\n",
        "* 00 01 02 00 01\n",
        "* 10 11 12 10 11\n",
        "* 20 21 22 20 21"
      ],
      "metadata": {
        "id": "5FUpwBufsAyY"
      }
    },
    {
      "cell_type": "code",
      "source": [
        "### Matrizes - Exercício 2  ###\n",
        "\n",
        "import random as rd\n",
        "print(\"=\" * 5 + \"Determinante de Matrizes\" + \"=\" * 5)\n",
        "matriz1 = [[rd.randint(1,10), rd.randint(1,10), rd.randint(1,10)], [rd.randint(1,10), rd.randint(1,10), rd.randint(1,10)], [rd.randint(1,10), rd.randint(1,10), rd.randint(1,10)]]\n",
        "\n",
        "print(\"Matriz:\", [matriz1[0][1], matriz1[1][0], matriz1[2][2] + matriz1[0][0], matriz1[1][2], matriz1[2][1], matriz1[0][2], matriz1[1][1], matriz1[2][0]])\n",
        "determinante = [(matriz1[0][0] * matriz1[1][1] * matriz1[2][2] + matriz1[0][1] * matriz1[1][2] * matriz1[2][0] + matriz1[0][2] * matriz1[1][0] * matriz1[2][1]) - (matriz1[0][1] * matriz1[1][0] * matriz1[2][2] + matriz1[0][0] * matriz1[1][2] * matriz1[2][1] + matriz1[0][2] * matriz1[1][1] * matriz1[2][0])]\n",
        "\n",
        "print(\"Determinante:\", sum(determinante))\n"
      ],
      "metadata": {
        "colab": {
          "base_uri": "https://localhost:8080/"
        },
        "id": "9vQDZsiZsjJn",
        "outputId": "e6be6b47-a0ed-4b33-d277-cb5e7a2e5775"
      },
      "execution_count": null,
      "outputs": [
        {
          "output_type": "stream",
          "name": "stdout",
          "text": [
            "=====Determinante de Matrizes=====\n",
            "Matriz: [3, 10, 6, 4, 1, 9, 8, 5]\n",
            "Determinante: -220\n",
            "-220.00000000000009\n"
          ]
        }
      ]
    },
    {
      "cell_type": "code",
      "source": [
        "### Matrizes - Exercício 3  ###\n",
        "## Matriz com numpy\n",
        "\n",
        "import numpy as np\n",
        "import random as rd\n",
        "print(\"=\" * 5 + \"Determinante de Matrizes\" + \"=\" * 5)\n",
        "matriz1 = [[rd.randint(1,10), rd.randint(1,10), rd.randint(1,10)], [rd.randint(1,10), rd.randint(1,10), rd.randint(1,10)], [rd.randint(1,10), rd.randint(1,10), rd.randint(1,10)]]\n",
        "np.linalg.det(matriz1)"
      ],
      "metadata": {
        "id": "FWLpX1f616AU",
        "colab": {
          "base_uri": "https://localhost:8080/"
        },
        "outputId": "acdc84ef-6b1f-40e7-c96f-1befd3eefef7"
      },
      "execution_count": 1,
      "outputs": [
        {
          "output_type": "stream",
          "name": "stdout",
          "text": [
            "=====Determinante de Matrizes=====\n"
          ]
        },
        {
          "output_type": "execute_result",
          "data": {
            "text/plain": [
              "51.0"
            ]
          },
          "metadata": {},
          "execution_count": 1
        }
      ]
    },
    {
      "cell_type": "markdown",
      "source": [
        "**NumPy**"
      ],
      "metadata": {
        "id": "q1KzpgLl3Ikb"
      }
    },
    {
      "cell_type": "code",
      "source": [
        "import numpy as np\n",
        "dados = np.random.randint(10, size=(3,3))\n",
        "print(dados)\n",
        "np.linalg.det(dados)"
      ],
      "metadata": {
        "colab": {
          "base_uri": "https://localhost:8080/"
        },
        "id": "etEoI49H3LVt",
        "outputId": "e7bc67f9-5417-4ce1-842a-24c5ffb25dac"
      },
      "execution_count": null,
      "outputs": [
        {
          "output_type": "stream",
          "name": "stdout",
          "text": [
            "[[7 6 9]\n",
            " [9 3 1]\n",
            " [7 8 1]]\n"
          ]
        },
        {
          "output_type": "execute_result",
          "data": {
            "text/plain": [
              "412.0000000000001"
            ]
          },
          "metadata": {},
          "execution_count": 42
        }
      ]
    },
    {
      "cell_type": "markdown",
      "source": [
        "**Corredores e Voltas**"
      ],
      "metadata": {
        "id": "S2rNrAdXvGBd"
      }
    },
    {
      "cell_type": "code",
      "source": [
        "# Corrida maluca\n",
        "\n",
        "import numpy as np\n",
        "\n",
        "dados = np.random.uniform(10, 6,  size = (10,6))\n",
        "dadosT = dados.T\n",
        "\n",
        "\n",
        "print(dados)\n",
        "print('essa é a matriz transposta: ')\n",
        "print(dadosT)\n",
        "\n",
        "\n",
        "print('a lista de soma de dados: ')\n",
        "print(np.sum(dados, axis = 0))\n",
        "\n",
        "print(np.sum(dadosT, axis = 1))\n",
        "\n",
        "somas = np.sum(dados, axis = 0)\n",
        "print('o argmin é : ', np.argmin(somas))\n",
        "print('o min é : ',np.min(somas))\n",
        "\n",
        "print('O campeao foi o corredor: ' + str(np.argmin(somas) + 1) + ' que fez : ' + str(np.min(somas)) + ' segundos em toda a prova!!!!')"
      ],
      "metadata": {
        "colab": {
          "base_uri": "https://localhost:8080/"
        },
        "id": "ZlEaacy61rdY",
        "outputId": "be917cef-4263-456f-8d7d-3b5f45255fc6"
      },
      "execution_count": null,
      "outputs": [
        {
          "output_type": "stream",
          "name": "stdout",
          "text": [
            "[[6.10032103 8.89806551 9.23989138 7.55310347 6.98994412 9.04460623]\n",
            " [8.1451678  8.34667948 7.98987932 9.14820293 6.42167069 7.03194899]\n",
            " [8.50408661 7.04374273 7.57035489 9.03105169 6.44057353 8.90388956]\n",
            " [6.02623848 8.57833542 7.91368428 8.20544138 7.1097499  8.22861463]\n",
            " [6.56871051 6.42163101 6.13242597 6.90124754 9.15577832 9.06267031]\n",
            " [9.10390453 9.42344657 7.21368629 9.97461096 7.15946038 9.5131717 ]\n",
            " [8.23116379 8.39627167 6.39880665 7.53345477 9.47891687 6.00809135]\n",
            " [8.52459922 8.58050167 7.14345924 8.02693011 7.8310462  6.50258165]\n",
            " [6.53816112 8.71527377 9.60882867 8.61064051 7.05922552 7.18207695]\n",
            " [6.87759375 7.6643266  9.06823057 7.64535668 8.05345878 6.89210512]]\n",
            "essa é a matriz transposta: \n",
            "[[6.10032103 8.1451678  8.50408661 6.02623848 6.56871051 9.10390453\n",
            "  8.23116379 8.52459922 6.53816112 6.87759375]\n",
            " [8.89806551 8.34667948 7.04374273 8.57833542 6.42163101 9.42344657\n",
            "  8.39627167 8.58050167 8.71527377 7.6643266 ]\n",
            " [9.23989138 7.98987932 7.57035489 7.91368428 6.13242597 7.21368629\n",
            "  6.39880665 7.14345924 9.60882867 9.06823057]\n",
            " [7.55310347 9.14820293 9.03105169 8.20544138 6.90124754 9.97461096\n",
            "  7.53345477 8.02693011 8.61064051 7.64535668]\n",
            " [6.98994412 6.42167069 6.44057353 7.1097499  9.15577832 7.15946038\n",
            "  9.47891687 7.8310462  7.05922552 8.05345878]\n",
            " [9.04460623 7.03194899 8.90388956 8.22861463 9.06267031 9.5131717\n",
            "  6.00809135 6.50258165 7.18207695 6.89210512]]\n",
            "a lista de soma de dados: \n",
            "[74.61994684 82.06827443 78.27924726 82.63004005 75.69982431 78.36975648]\n",
            "[74.61994684 82.06827443 78.27924726 82.63004005 75.69982431 78.36975648]\n",
            "o argmin é :  0\n",
            "o min é :  74.61994684312292\n",
            "O campeao foi o corredor: 1 que fez : 74.61994684312292 segundos em toda a prova!!!!\n"
          ]
        }
      ]
    },
    {
      "cell_type": "markdown",
      "source": [
        "**Pandas**"
      ],
      "metadata": {
        "id": "NQTlKn7uvYpL"
      }
    },
    {
      "cell_type": "code",
      "source": [
        "import pandas as pd\n",
        "import numpy as np\n",
        "\n",
        "matriz = np.random.uniform(10, 6, size=(10,6))\n",
        "matrizT = matriz.T\n",
        "\n",
        "dados = {'Ayrton Senna':[matriz[0][0], matriz[1][0], matriz[2][0], matriz[3][0], matriz[4][0], matriz[5][0], matriz[6][0], matriz[7][0], matriz[8][0], matriz[9][0]],\n",
        "         \"Felipe Massa\":[matriz[0][1], matriz[1][1], matriz[2][1], matriz[3][1], matriz[4][1], matriz[5][1], matriz[6][1], matriz[7][1], matriz[8][1], matriz[9][1]],\n",
        "         \"Emerson Fittipaldi\":[matriz[0][2], matriz[1][2], matriz[2][2], matriz[3][2], matriz[4][2], matriz[5][2], matriz[6][2], matriz[7][2], matriz[8][2], matriz[9][2]],\n",
        "         \"Rubens Barrichello\":[matriz[0][3], matriz[1][3], matriz[2][3], matriz[3][3], matriz[4][3], matriz[5][3], matriz[6][3], matriz[7][3], matriz[8][3], matriz[9][3]],\n",
        "         \"Leandro Brito\":[matriz[0][4], matriz[1][4], matriz[2][4], matriz[3][4], matriz[4][4], matriz[5][4], matriz[6][4], matriz[7][4], matriz[8][4], matriz[9][4]],\n",
        "         \"Jean Justino\":[matriz[0][5], matriz[1][5], matriz[2][5], matriz[3][5], matriz[4][5], matriz[5][5], matriz[6][5], matriz[7][5], matriz[8][5], matriz[9][5]]}\n",
        "\n",
        "df1 = pd.DataFrame(dados)\n",
        "df1.index = [\"volta 1\", \"volta 2\", \"volta 3\", \"volta 4\", \"volta 5\", \"volta 6\", \"volta 7\", \"volta 8\", \"volta 9\", \"volta 10\"]\n",
        "\n",
        "print(df1)\n",
        "\n",
        "# Soma dos tempos\n",
        "somas = np.sum(df1, axis = 0)\n",
        "print('o argmin é : ', np.argmin(somas))\n",
        "print('o min é : ',np.min(somas))\n",
        "\n",
        "# Ordem de chegada\n",
        "ordem = df1.columns[np.argmin(somas)]\n",
        "\n",
        "print('O campeao foi o corredor: ' + df1.columns[(np.argmin(somas))] + ' que fez : ' + str(np.min(somas)) + ' segundos em toda a prova!!!!')\n",
        "\n",
        "print(somas)\n"
      ],
      "metadata": {
        "colab": {
          "base_uri": "https://localhost:8080/"
        },
        "id": "-dKt51XMvhGT",
        "outputId": "b3e2b128-0aa7-42f0-9a29-3197a3973a41"
      },
      "execution_count": null,
      "outputs": [
        {
          "output_type": "stream",
          "name": "stdout",
          "text": [
            "          Ayrton Senna  Felipe Massa  Emerson Fittipaldi  Rubens Barrichello  \\\n",
            "volta 1       7.048004      9.067487            6.757976            9.120416   \n",
            "volta 2       9.903363      9.294978            9.579823            6.976590   \n",
            "volta 3       7.233767      7.156830            8.747138            6.734507   \n",
            "volta 4       7.631908      9.969401            6.496319            7.028155   \n",
            "volta 5       7.706816      7.096547            7.737788            9.240121   \n",
            "volta 6       9.820165      9.179996            8.293440            9.812782   \n",
            "volta 7       8.744928      6.435237            8.998834            9.415746   \n",
            "volta 8       9.578150      7.367518            6.198968            6.423655   \n",
            "volta 9       6.071827      9.908218            8.612747            9.078294   \n",
            "volta 10      8.999686      7.099684            9.213632            6.179936   \n",
            "\n",
            "          Leandro Brito  Jean Justino  \n",
            "volta 1        6.340812      8.178037  \n",
            "volta 2        8.650622      6.744496  \n",
            "volta 3        6.255611      6.249536  \n",
            "volta 4        8.747339      6.784734  \n",
            "volta 5        9.965181      7.457622  \n",
            "volta 6        9.474618      9.701403  \n",
            "volta 7        9.876700      6.176198  \n",
            "volta 8        6.102493      8.061463  \n",
            "volta 9        9.037574      7.253980  \n",
            "volta 10       7.056070      7.024317  \n"
          ]
        }
      ]
    },
    {
      "cell_type": "code",
      "source": [
        "import numpy as np\n",
        "import pandas as pd\n",
        "\n",
        "dados = np.random.uniform(6, 10,  size = (6,10))\n",
        "\n",
        "df1=pd.DataFrame(dados, index = ['jean', 'felipe', 'andre', 'leandro', 'eduardo', 'juliano'], columns=['v1','v2','v3','v4','v5','v6','v7','v8','v9','v10'])\n",
        "print(df1)\n",
        "#print(df1.sum(axis = 1))\n",
        "#print(df1.sum(axis = 1).idxmin())\n",
        "\n",
        "print('O campeão foi ', df1.sum(axis = 1).idxmin(), ' que fez ', df1.sum(axis = 1).min(), ' segundos!!!' )"
      ],
      "metadata": {
        "id": "HjdRxdRm3PQa"
      },
      "execution_count": null,
      "outputs": []
    },
    {
      "cell_type": "markdown",
      "source": [
        "**Matplotlib**"
      ],
      "metadata": {
        "id": "Bsx4fwwW3QnC"
      }
    },
    {
      "cell_type": "code",
      "source": [
        "import numpy as np\n",
        "import pandas as pd\n",
        "import matplotlib.pyplot as plt\n",
        "\n",
        "dados = np.random.uniform(6, 10, size=(6, 10))\n",
        "\n",
        "df1 = pd.DataFrame(dados, index = ['Ayrton Senna', 'Felipe Massa', 'Emerson Fittipaldi', 'Rubens Barrichello', 'Leandro Brito', 'Jean Justino'],\n",
        "                   columns=['volta 1', 'volta 2', 'volta 3', 'volta 4', 'volta 5', 'volta 6', 'volta 7', 'volta 8', 'volta 9', 'volta 10'])\n",
        "\n",
        "plot = df1.plot.bar(y='volta 8', figsize=(6,4), ylim=(6, 10))\n",
        "plt.xlabel('Pilotos')\n",
        "plt.ylabel('Segundos')\n",
        "plt.title('Tempo dos pilotos na Volta 8')"
      ],
      "metadata": {
        "colab": {
          "base_uri": "https://localhost:8080/",
          "height": 543
        },
        "id": "-apdoDY63TZX",
        "outputId": "c0aec60b-cfd7-457e-9bc6-0d1e7daae6ef"
      },
      "execution_count": null,
      "outputs": [
        {
          "output_type": "execute_result",
          "data": {
            "text/plain": [
              "Text(0.5, 1.0, 'Tempo dos pilotos na Volta 8')"
            ]
          },
          "metadata": {},
          "execution_count": 1
        },
        {
          "output_type": "display_data",
          "data": {
            "text/plain": [
              "<Figure size 600x400 with 1 Axes>"
            ],
            "image/png": "[encoded data removed]"
          },
          "metadata": {}
        }
      ]
    },
    {
      "cell_type": "code",
      "source": [],
      "metadata": {
        "id": "gt6aVAY17NbV"
      },
      "execution_count": null,
      "outputs": []
    }
  ]
}