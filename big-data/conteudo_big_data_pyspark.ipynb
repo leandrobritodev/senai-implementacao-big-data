{
  "nbformat": 4,
  "nbformat_minor": 0,
  "metadata": {
    "colab": {
      "provenance": []
    },
    "kernelspec": {
      "name": "python3",
      "display_name": "Python 3"
    },
    "language_info": {
      "name": "python"
    }
  },
  "cells": [
    {
      "cell_type": "code",
      "execution_count": null,
      "metadata": {
        "colab": {
          "base_uri": "https://localhost:8080/"
        },
        "id": "mCy04-ArhiTu",
        "outputId": "dc85510a-57d1-4768-eeef-20165f3c0d8c"
      },
      "outputs": [
        {
          "output_type": "stream",
          "name": "stdout",
          "text": [
            "Collecting pyspark\n",
            "  Downloading pyspark-3.5.1.tar.gz (317.0 MB)\n",
            "\u001b[2K     \u001b[90m━━━━━━━━━━━━━━━━━━━━━━━━━━━━━━━━━━━━━━━━\u001b[0m \u001b[32m317.0/317.0 MB\u001b[0m \u001b[31m4.9 MB/s\u001b[0m eta \u001b[36m0:00:00\u001b[0m\n",
            "\u001b[?25h  Preparing metadata (setup.py) ... \u001b[?25l\u001b[?25hdone\n",
            "Requirement already satisfied: py4j==0.10.9.7 in /usr/local/lib/python3.10/dist-packages (from pyspark) (0.10.9.7)\n",
            "Building wheels for collected packages: pyspark\n",
            "  Building wheel for pyspark (setup.py) ... \u001b[?25l\u001b[?25hdone\n",
            "  Created wheel for pyspark: filename=pyspark-3.5.1-py2.py3-none-any.whl size=317488493 sha256=038b71f6a46a37f611087dd3fae8d34238f53e25247ad0a61a16836fbd3ea432\n",
            "  Stored in directory: /root/.cache/pip/wheels/80/1d/60/2c256ed38dddce2fdd93be545214a63e02fbd8d74fb0b7f3a6\n",
            "Successfully built pyspark\n",
            "Installing collected packages: pyspark\n",
            "Successfully installed pyspark-3.5.1\n"
          ]
        }
      ],
      "source": [
        "pip install pyspark"
      ]
    },
    {
      "cell_type": "code",
      "source": [
        "import pyspark as spk\n",
        "from pyspark.sql import SparkSession\n",
        "import random as rd\n",
        "\n",
        "\n",
        "dados = [(\"volta_1\", rd.randint(60, 90), rd.randint(60, 90), rd.randint(60, 90), rd.randint(60, 90), rd.randint(60, 90), rd.randint(60, 90)),\n",
        "         (\"volta_2\", rd.randint(60, 90), rd.randint(60, 90), rd.randint(60, 90), rd.randint(60, 90), rd.randint(60, 90), rd.randint(60, 90)),\n",
        "         (\"volta_3\", rd.randint(60, 90), rd.randint(60, 90), rd.randint(60, 90), rd.randint(60, 90), rd.randint(60, 90), rd.randint(60, 90)),\n",
        "         (\"volta_4\", rd.randint(60, 90), rd.randint(60, 90), rd.randint(60, 90), rd.randint(60, 90), rd.randint(60, 90), rd.randint(60, 90)),\n",
        "         (\"volta_5\", rd.randint(60, 90), rd.randint(60, 90), rd.randint(60, 90), rd.randint(60, 90), rd.randint(60, 90), rd.randint(60, 90)),\n",
        "         (\"volta_6\", rd.randint(60, 90), rd.randint(60, 90), rd.randint(60, 90), rd.randint(60, 90), rd.randint(60, 90), rd.randint(60, 90)),\n",
        "         (\"volta_7\", rd.randint(60, 90), rd.randint(60, 90), rd.randint(60, 90), rd.randint(60, 90), rd.randint(60, 90), rd.randint(60, 90)),\n",
        "         (\"volta_8\", rd.randint(60, 90), rd.randint(60, 90), rd.randint(60, 90), rd.randint(60, 90), rd.randint(60, 90), rd.randint(60, 90)),\n",
        "         (\"volta_9\", rd.randint(60, 90), rd.randint(60, 90), rd.randint(60, 90), rd.randint(60, 90), rd.randint(60, 90), rd.randint(60, 90)),\n",
        "         (\"volta_10\", rd.randint(60, 90), rd.randint(60, 90), rd.randint(60, 90), rd.randint(60, 90), rd.randint(60, 90), rd.randint(60, 90))]\n",
        "\n",
        "# Montar a sessão\n",
        "spark = SparkSession.builder.appName('corrida').getOrCreate()\n",
        "columns = [\"Voltas\", \"Leandro\", \"Minoru\", \"Jean\", \"Felipe\", \"Rodolfo\", \"Ayrton\"]\n",
        "\n",
        "pysparkDF = spark.createDataFrame(data = dados, schema = columns)\n",
        "pysparkDF.printSchema()\n",
        "pysparkDF.show()"
      ],
      "metadata": {
        "colab": {
          "base_uri": "https://localhost:8080/"
        },
        "id": "TkB1Ll0yiwLS",
        "outputId": "dfa5902e-e570-4937-8c32-12a821923313"
      },
      "execution_count": null,
      "outputs": [
        {
          "output_type": "stream",
          "name": "stdout",
          "text": [
            "root\n",
            " |-- Voltas: string (nullable = true)\n",
            " |-- Leandro: long (nullable = true)\n",
            " |-- Minoru: long (nullable = true)\n",
            " |-- Jean: long (nullable = true)\n",
            " |-- Felipe: long (nullable = true)\n",
            " |-- Rodolfo: long (nullable = true)\n",
            " |-- Ayrton: long (nullable = true)\n",
            "\n",
            "+--------+-------+------+----+------+-------+------+\n",
            "|  Voltas|Leandro|Minoru|Jean|Felipe|Rodolfo|Ayrton|\n",
            "+--------+-------+------+----+------+-------+------+\n",
            "| volta_1|     70|    66|  82|    64|     88|    78|\n",
            "| volta_2|     84|    61|  83|    68|     82|    65|\n",
            "| volta_3|     62|    73|  67|    79|     87|    64|\n",
            "| volta_4|     76|    73|  64|    72|     78|    60|\n",
            "| volta_5|     68|    87|  62|    88|     60|    82|\n",
            "| volta_6|     78|    68|  87|    60|     79|    71|\n",
            "| volta_7|     82|    69|  66|    62|     77|    79|\n",
            "| volta_8|     63|    77|  72|    74|     68|    72|\n",
            "| volta_9|     65|    86|  84|    76|     62|    63|\n",
            "|volta_10|     80|    83|  64|    80|     79|    82|\n",
            "+--------+-------+------+----+------+-------+------+\n",
            "\n"
          ]
        }
      ]
    }
  ]
}